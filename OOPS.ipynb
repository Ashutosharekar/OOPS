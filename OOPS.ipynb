{
  "nbformat": 4,
  "nbformat_minor": 0,
  "metadata": {
    "colab": {
      "provenance": []
    },
    "kernelspec": {
      "name": "python3",
      "display_name": "Python 3"
    },
    "language_info": {
      "name": "python"
    }
  },
  "cells": [
    {
      "cell_type": "markdown",
      "source": [
        "#OOPS Assignment\n",
        "\n",
        "1. What is Object-Oriented Programming (OOP)?  \n",
        "- Object-Oriented Programming is a programming paradigm that organizes code around objects rather than functions. Objects represent real-world entities and contain both data (attributes) and behavior (methods). OOP promotes reusability, modularity, and easier maintenance of code.\n",
        "\n",
        "2. What is a class in OOP?\n",
        " - A class is a blueprint or template used to create objects. It defines attributes (variables) and behaviors (methods) that the objects will have. Without classes, we cannot implement OOP in Python.\n",
        "\n",
        "3. What is an object in OOP?\n",
        " - An object is an instance of a class. It is a real-world entity created from a class holding specific data and providing functionality defined by the class.\n",
        "\n",
        "4. What is the difference between abstraction and encapsulation?\n",
        " - Abstraction is hiding the implementation details and showing only essential features. Encapsulation is wrapping data and methods together and controlling access using access modifiers. Abstraction focuses on “what,” while encapsulation focuses on “how.”\n",
        "\n",
        "5. What are dunder methods in Python?\n",
        " - Dunder methods (double underscore methods) are special predefined methods in Python. They allow us to define custom behavior for built-in operations, such as __init__, __str__, or __len__.\n",
        "\n",
        "6. Explain the concept of inheritance in OOP.\n",
        " - Inheritance allows one class (child class) to acquire properties and methods of another class (parent class). It promotes reusability and hierarchical classification in programming.\n",
        "\n",
        "7. What is polymorphism in OOP?\n",
        " - Polymorphism means the same function or method can behave differently depending on the object or context. It can be achieved through method overriding or operator overloading.\n",
        "\n",
        "8. How is encapsulation achieved in Python?\n",
        " - Encapsulation is achieved by using private (__var) or protected (_var) variables and providing controlled access through getter and setter methods. This hides sensitive data and ensures security.\n",
        "\n",
        "9. What is a constructor in Python?\n",
        " - A constructor is a special method __init__ in Python that automatically initializes the object’s state when it is created.\n",
        "\n",
        "10. What are class and static methods in Python?\n",
        " - A class method is defined using @classmethod and takes cls as a parameter, allowing it to modify class-level attributes. A static method is defined using @staticmethod, does not take self or cls, and behaves like a normal function inside a class.\n",
        "\n",
        "11. What is method overloading in Python?\n",
        " - Method overloading means defining multiple methods with the same name but different parameters. Python does not support it directly but can be achieved by using default arguments or variable arguments.\n",
        "\n",
        "12. What is method overriding in OOP?\n",
        " - Method overriding occurs when a child class provides its own implementation of a method already defined in the parent class. This supports runtime polymorphism.\n",
        "\n",
        "13. What is a property decorator in Python?\n",
        " - The @property decorator is used to define methods that can be accessed like attributes. It allows controlled access to private variables without explicitly calling getter/setter methods.\n",
        "\n",
        "14. Why is polymorphism important in OOP?\n",
        " - Polymorphism increases code flexibility and reusability. It allows the same function or operator to work with different object types, making code more extensible.\n",
        "\n",
        "15. What is an abstract class in Python?\n",
        " - An abstract class is a class that cannot be instantiated directly and may contain abstract methods. It is defined using the abc module and provides a base for subclasses to implement.\n",
        "\n",
        "16. What are the advantages of OOP?\n",
        " - OOP provides modularity, reusability, and maintainability. It simplifies large codebases, promotes data security, and makes complex systems easier to design and extend.\n",
        "\n",
        "17. What is the difference between a class variable and an instance variable?\n",
        " - A class variable is shared among all instances of the class, while an instance variable is unique to each object. Class variables are defined inside the class, whereas instance variables are defined inside methods using self.\n",
        "\n",
        "18. What is multiple inheritance in Python?\n",
        " - Multiple inheritance means a class can inherit from more than one parent class. While powerful, it may cause ambiguity, which Python handles using the Method Resolution Order (MRO).\n",
        "\n",
        "19. Explain the purpose of __str__ and __repr__ methods in Python.\n",
        " - The __str__ method returns a user-friendly string representation of an object, while __repr__ returns a more technical, developer-oriented representation. Both improve object readability and debugging.\n",
        "\n",
        "20. What is the significance of the super() function in Python?\n",
        " - The super() function is used to call methods of a parent class inside a child class. It helps in method overriding and ensures code reusability in inheritance.\n",
        "\n",
        "21. What is the significance of the __del__ method in Python?\n",
        " - The __del__ method is a destructor that gets called automatically when an object is deleted or goes out of scope. It is used for cleanup tasks such as releasing resources.\n",
        "\n",
        "22. What is the difference between @staticmethod and @classmethod in Python?\n",
        " - A @staticmethod is a method that does not take the class or instance as the first argument. It behaves like a normal function inside a class.\n",
        " A @classmethod takes the class (cls) as the first argument and can modify or access class-level attributes.\n",
        " Static methods are used for utility operations, while class methods are used when we need to work with the class itself.\n",
        "\n",
        "23. How does polymorphism work in Python with inheritance?\n",
        " - Polymorphism allows us to use a single interface for different data types or objects.\n",
        " In inheritance, a subclass can override methods of the parent class, but we can still call them in the same way.\n",
        " This enables objects of different classes to respond to the same method name with behavior specific to their class.\n",
        "\n",
        "24. What is method chaining in Python OOP?\n",
        " - Method chaining is the practice of calling multiple methods on the same object in a single line.\n",
        " It works when methods return the object itself (self) instead of another value.\n",
        " This approach makes the code concise and improves readability by linking operations together.\n",
        "\n",
        "25. What is the purpose of the __call__ method in Python?\n",
        " - The __call__ method allows an object to be called like a function.\n",
        " When defined, we can use parentheses after an object to execute custom logic.\n",
        " This makes objects more flexible and can be useful in scenarios like decorators, callbacks, or stateful functions.\n",
        "\n",
        "\n",
        "# Practical Questions"
      ],
      "metadata": {
        "id": "KaKQJrCKNOqn"
      }
    },
    {
      "cell_type": "code",
      "execution_count": 4,
      "metadata": {
        "id": "GGyzwSgyNKBf",
        "colab": {
          "base_uri": "https://localhost:8080/"
        },
        "outputId": "ed3397b3-1dfc-42f6-d731-0443a3138a54"
      },
      "outputs": [
        {
          "output_type": "stream",
          "name": "stdout",
          "text": [
            "This animal makes a sound.\n",
            "Bark!\n"
          ]
        }
      ],
      "source": [
        "#1. Create a parent class Animal with a method speak() that prints a generic message. Create a child class Dog that overrides the speak() method to print \"Bark!\".\n",
        "\n",
        "class Animal:\n",
        "    def speak(self):\n",
        "        print(\"This animal makes a sound.\")\n",
        "\n",
        "class Dog(Animal):\n",
        "    def speak(self):\n",
        "        print(\"Bark!\")\n",
        "a = Animal()\n",
        "a.speak()\n",
        "\n",
        "d = Dog()\n",
        "d.speak()\n"
      ]
    },
    {
      "cell_type": "code",
      "source": [
        "#2. Write a program to create an abstract class Shape with a method area(). Derive classes Circle and Rectangle from it and implement the area() method in both.\n",
        "\n",
        "from abc import ABC, abstractmethod\n",
        "import math\n",
        "\n",
        "class Shape(ABC):\n",
        "    @abstractmethod\n",
        "    def area(self):\n",
        "        pass\n",
        "\n",
        "# Circle  area\n",
        "class Circle(Shape):\n",
        "    def __init__(self, radius):\n",
        "        self.radius = radius\n",
        "\n",
        "    def area(self):\n",
        "        return math.pi * self.radius * self.radius\n",
        "\n",
        "# Rectangle area\n",
        "class Rectangle(Shape):\n",
        "    def __init__(self, length, width):\n",
        "        self.length = length\n",
        "        self.width = width\n",
        "\n",
        "    def area(self):\n",
        "        return self.length * self.width\n",
        "\n",
        "c = Circle(5)\n",
        "r = Rectangle(4, 6)\n",
        "\n",
        "print(\"Circle area:\", c.area())\n",
        "print(\"Rectangle area:\", r.area())\n"
      ],
      "metadata": {
        "colab": {
          "base_uri": "https://localhost:8080/"
        },
        "id": "TXGjxkaKul9x",
        "outputId": "0cac38b5-f4f8-4e7f-baff-7d1b7d5c2d30"
      },
      "execution_count": 5,
      "outputs": [
        {
          "output_type": "stream",
          "name": "stdout",
          "text": [
            "Circle area: 78.53981633974483\n",
            "Rectangle area: 24\n"
          ]
        }
      ]
    },
    {
      "cell_type": "code",
      "source": [
        "\"\"\"\n",
        "3. Implement a multi-level inheritance scenario where a class Vehicle has an attribute type. Derive a class Car\n",
        "and further derive a class ElectricCar that adds a battery attribute.\n",
        "\n",
        "\"\"\"\n",
        "class Vehicle:\n",
        "    def __init__(self, v_type):\n",
        "        self.type = v_type\n",
        "\n",
        "class Car(Vehicle):\n",
        "    def __init__(self, v_type, brand):\n",
        "        super().__init__(v_type)\n",
        "        self.brand = brand\n",
        "\n",
        "\n",
        "class ElectricCar(Car):\n",
        "    def __init__(self, v_type, brand, battery):\n",
        "        super().__init__(v_type, brand)\n",
        "        self.battery = battery\n",
        "\n",
        "ecar = ElectricCar(\"Four Wheeler\", \"Tesla\", \"85 kWh\")\n",
        "print(\"Type:\", ecar.type)\n",
        "print(\"Brand:\", ecar.brand)\n",
        "print(\"Battery:\", ecar.battery)\n"
      ],
      "metadata": {
        "colab": {
          "base_uri": "https://localhost:8080/"
        },
        "id": "483ysp6rvBCG",
        "outputId": "5ecf9355-dd00-47d9-cb94-4b27aac43edb"
      },
      "execution_count": 6,
      "outputs": [
        {
          "output_type": "stream",
          "name": "stdout",
          "text": [
            "Type: Four Wheeler\n",
            "Brand: Tesla\n",
            "Battery: 85 kWh\n"
          ]
        }
      ]
    },
    {
      "cell_type": "code",
      "source": [
        "'''\n",
        "4. Demonstrate polymorphism by creating a base class Bird with a method fly(). Create two derived classes\n",
        "Sparrow and Penguin that override the fly() method.\n",
        "\n",
        "'''\n",
        "\n",
        "class Bird:\n",
        "    def fly(self):\n",
        "        print(\"Some birds can fly.\")\n",
        "\n",
        "class Sparrow(Bird):\n",
        "    def fly(self):\n",
        "        print(\"Sparrow flies high in the sky.\")\n",
        "\n",
        "class Penguin(Bird):\n",
        "    def fly(self):\n",
        "        print(\"Penguins cannot fly, they swim.\")\n",
        "\n",
        "\n",
        "birds = [Sparrow(), Penguin()]\n",
        "\n",
        "for b in birds:\n",
        "    b.fly()\n"
      ],
      "metadata": {
        "colab": {
          "base_uri": "https://localhost:8080/"
        },
        "id": "JycZtaFqv8Vd",
        "outputId": "167bd123-7e3b-464e-9368-5b4e98411208"
      },
      "execution_count": 7,
      "outputs": [
        {
          "output_type": "stream",
          "name": "stdout",
          "text": [
            "Sparrow flies high in the sky.\n",
            "Penguins cannot fly, they swim.\n"
          ]
        }
      ]
    },
    {
      "cell_type": "code",
      "source": [
        "'''\n",
        "5. Write a program to demonstrate encapsulation by creating a class BankAccount with private attributes\n",
        "balance and methods to deposit, withdraw, and check balance.\n",
        "\n",
        "'''\n",
        "class BankAccount:\n",
        "    def __init__(self, balance=0):\n",
        "        self.__balance = balance   # private attribute\n",
        "\n",
        "    def deposit(self, amount):\n",
        "        self.__balance += amount\n",
        "\n",
        "    def withdraw(self, amount):\n",
        "        if amount <= self.__balance:\n",
        "            self.__balance -= amount\n",
        "        else:\n",
        "            print(\"Insufficient balance!\")\n",
        "\n",
        "    def get_balance(self):\n",
        "        return self.__balance\n",
        "\n",
        "account = BankAccount(1000)\n",
        "account.deposit(500)\n",
        "account.withdraw(200)\n",
        "print(\"Balance:\", account.get_balance())\n"
      ],
      "metadata": {
        "colab": {
          "base_uri": "https://localhost:8080/"
        },
        "id": "GLwUG3mFwJ5v",
        "outputId": "11483281-d509-4003-b460-251b551aa9dd"
      },
      "execution_count": 8,
      "outputs": [
        {
          "output_type": "stream",
          "name": "stdout",
          "text": [
            "Balance: 1300\n"
          ]
        }
      ]
    },
    {
      "cell_type": "code",
      "source": [
        "'''\n",
        "6. Demonstrate runtime polymorphism using a method play() in a base class Instrument. Derive classes Guitar\n",
        "and Piano that implement their own version of play().\n",
        "\n",
        "'''\n",
        "class Instrument:\n",
        "    def play(self):\n",
        "        print(\"Playing an instrument.\")\n",
        "\n",
        "class Guitar(Instrument):\n",
        "    def play(self):\n",
        "        print(\"Strumming the guitar.\")\n",
        "\n",
        "class Piano(Instrument):\n",
        "    def play(self):\n",
        "        print(\"Playing the piano.\")\n",
        "\n",
        "instruments = [Guitar(), Piano()]\n",
        "for i in instruments:\n",
        "    i.play()\n"
      ],
      "metadata": {
        "colab": {
          "base_uri": "https://localhost:8080/"
        },
        "id": "6bfyfuMvwu_s",
        "outputId": "a408336d-6f74-49c7-cbd4-0cbf9c181b5e"
      },
      "execution_count": 9,
      "outputs": [
        {
          "output_type": "stream",
          "name": "stdout",
          "text": [
            "Strumming the guitar.\n",
            "Playing the piano.\n"
          ]
        }
      ]
    },
    {
      "cell_type": "code",
      "source": [
        "'''\n",
        "7. Create a class MathOperations with a class method add_numbers() to add two numbers and a static\n",
        "method subtract_numbers() to subtract two numbers.\n",
        "\n",
        "'''\n",
        "class MathOperations:\n",
        "    @classmethod\n",
        "    def add_numbers(cls, a, b):\n",
        "        return a + b\n",
        "\n",
        "    @staticmethod\n",
        "    def subtract_numbers(a, b):\n",
        "        return a - b\n",
        "\n",
        "print(\"Addition:\", MathOperations.add_numbers(5, 3))\n",
        "print(\"Subtraction:\", MathOperations.subtract_numbers(10, 4))\n",
        "\n",
        "\n"
      ],
      "metadata": {
        "colab": {
          "base_uri": "https://localhost:8080/"
        },
        "id": "SF7rLC3iw6BD",
        "outputId": "3a7735af-89e5-40f6-f971-3d922413251c"
      },
      "execution_count": 10,
      "outputs": [
        {
          "output_type": "stream",
          "name": "stdout",
          "text": [
            "Addition: 8\n",
            "Subtraction: 6\n"
          ]
        }
      ]
    },
    {
      "cell_type": "code",
      "source": [
        "#8. Implement a class Person with a class method to count the total number of persons created.\n",
        "\n",
        "class Person:\n",
        "    count = 0\n",
        "\n",
        "    def __init__(self, name):\n",
        "        self.name = name\n",
        "        Person.count += 1\n",
        "\n",
        "    @classmethod\n",
        "    def total_persons(cls):\n",
        "        return cls.count\n",
        "\n",
        "p1 = Person(\"A\")\n",
        "p2 = Person(\"B\")\n",
        "print(\"Total Persons:\", Person.total_persons())\n"
      ],
      "metadata": {
        "colab": {
          "base_uri": "https://localhost:8080/"
        },
        "id": "6rbCx33qxHv4",
        "outputId": "f65d9580-dc93-437a-cd12-1ef525bd671c"
      },
      "execution_count": 11,
      "outputs": [
        {
          "output_type": "stream",
          "name": "stdout",
          "text": [
            "Total Persons: 2\n"
          ]
        }
      ]
    },
    {
      "cell_type": "code",
      "source": [
        "'''\n",
        "9. Write a class Fraction with attributes numerator and denominator. Override the str method to display the\n",
        "fraction as \"numerator/denominator\".\n",
        "\n",
        "'''\n",
        "class Fraction:\n",
        "    def __init__(self, numerator, denominator):\n",
        "        self.numerator = numerator\n",
        "        self.denominator = denominator\n",
        "\n",
        "    def __str__(self):\n",
        "        return f\"{self.numerator}/{self.denominator}\"\n",
        "\n",
        "f = Fraction(3, 4)\n",
        "print(f)\n"
      ],
      "metadata": {
        "colab": {
          "base_uri": "https://localhost:8080/"
        },
        "id": "oScaFbOMxRB0",
        "outputId": "0670ef7d-74ad-4b58-be3f-6409732bfeb3"
      },
      "execution_count": 12,
      "outputs": [
        {
          "output_type": "stream",
          "name": "stdout",
          "text": [
            "3/4\n"
          ]
        }
      ]
    },
    {
      "cell_type": "code",
      "source": [
        "'''\n",
        "10. Demonstrate operator overloading by creating a class Vector and overriding the add method to add two\n",
        "vectors.\n",
        "\n",
        "'''\n",
        "class Vector:\n",
        "    def __init__(self, x, y):\n",
        "        self.x = x\n",
        "        self.y = y\n",
        "\n",
        "    def __add__(self, other):\n",
        "        return Vector(self.x + other.x, self.y + other.y)\n",
        "\n",
        "    def __str__(self):\n",
        "        return f\"({self.x}, {self.y})\"\n",
        "\n",
        "v1 = Vector(2, 3)\n",
        "v2 = Vector(4, 5)\n",
        "v3 = v1 + v2\n",
        "print(v3)\n",
        "\n"
      ],
      "metadata": {
        "colab": {
          "base_uri": "https://localhost:8080/"
        },
        "id": "YFaeFXIQxdT7",
        "outputId": "03c63972-70a3-47a5-ae76-c6f1e4b09a36"
      },
      "execution_count": 13,
      "outputs": [
        {
          "output_type": "stream",
          "name": "stdout",
          "text": [
            "(6, 8)\n"
          ]
        }
      ]
    },
    {
      "cell_type": "code",
      "source": [
        "'''\n",
        "11. Create a class Person with attributes name and age. Add a method greet() that prints \"Hello, my name is\n",
        "{name} and I am {age} years old.\"\n",
        "\n",
        "'''\n",
        "class Person:\n",
        "    def __init__(self, name, age):\n",
        "        self.name = name\n",
        "        self.age = age\n",
        "\n",
        "    def greet(self):\n",
        "        print(f\"Hello, my name is {self.name} and I am {self.age} years old\")\n",
        "\n",
        "p = Person(\"Ashutosh\", 21)\n",
        "p.greet()\n"
      ],
      "metadata": {
        "colab": {
          "base_uri": "https://localhost:8080/"
        },
        "id": "NinvVj4gxtXr",
        "outputId": "0f4a6dbf-95d5-4cb2-ee65-887b2455694f"
      },
      "execution_count": 15,
      "outputs": [
        {
          "output_type": "stream",
          "name": "stdout",
          "text": [
            "Hello, my name is Ashutosh and I am 21 years old\n"
          ]
        }
      ]
    },
    {
      "cell_type": "code",
      "source": [
        "'''\n",
        " 12. Implement a class Student with attributes name and grades. Create a method average_grade() to compute\n",
        "the average of the grades.\n",
        "\n",
        "'''\n",
        "class Student:\n",
        "    def __init__(self, name, grades):\n",
        "        self.name = name\n",
        "        self.grades = grades\n",
        "\n",
        "    def average_grade(self):\n",
        "        return sum(self.grades) / len(self.grades)\n",
        "\n",
        "s = Student(\"Ravi\", [80, 90, 85])\n",
        "print(\"Average grade:\", s.average_grade())\n"
      ],
      "metadata": {
        "colab": {
          "base_uri": "https://localhost:8080/"
        },
        "id": "uW0Tz6o_yKbD",
        "outputId": "9f58b651-c9d9-4ad1-d272-019a6d1a381c"
      },
      "execution_count": 16,
      "outputs": [
        {
          "output_type": "stream",
          "name": "stdout",
          "text": [
            "Average grade: 85.0\n"
          ]
        }
      ]
    },
    {
      "cell_type": "code",
      "source": [
        "#13. Create a class Rectangle with methods set_dimensions() to set the dimensions and area() to calculate thearea\n",
        "\n",
        "class Rectangle:\n",
        "    def __init__(self):\n",
        "        self.length = 0\n",
        "        self.width = 0\n",
        "\n",
        "    def set_dimensions(self, length, width):\n",
        "        self.length = length\n",
        "        self.width = width\n",
        "\n",
        "    def area(self):\n",
        "        return self.length * self.width\n",
        "\n",
        "r = Rectangle()\n",
        "r.set_dimensions(5, 10)\n",
        "print(\"Area:\", r.area())\n",
        "\n"
      ],
      "metadata": {
        "colab": {
          "base_uri": "https://localhost:8080/"
        },
        "id": "KNKrI_payXXF",
        "outputId": "a01b07f5-d3e3-4976-ee5e-8b99d83c2bd5"
      },
      "execution_count": 17,
      "outputs": [
        {
          "output_type": "stream",
          "name": "stdout",
          "text": [
            "Area: 50\n"
          ]
        }
      ]
    },
    {
      "cell_type": "code",
      "source": [
        "'''\n",
        "14. Create a class Employee with a method calculate_salary() that computes the salary based on hours worked\n",
        "and hourly rate. Create a derived class Manager that adds a bonus to the salary.\n",
        "\n",
        "'''\n",
        "class Employee:\n",
        "    def __init__(self, hours, rate):\n",
        "        self.hours = hours\n",
        "        self.rate = rate\n",
        "\n",
        "    def calculate_salary(self):\n",
        "        return self.hours * self.rate\n",
        "\n",
        "class Manager(Employee):\n",
        "    def __init__(self, hours, rate, bonus):\n",
        "        super().__init__(hours, rate)\n",
        "        self.bonus = bonus\n",
        "\n",
        "    def calculate_salary(self):\n",
        "        return super().calculate_salary() + self.bonus\n",
        "\n",
        "e = Employee(40, 20)\n",
        "print(\"Employee Salary:\", e.calculate_salary())\n",
        "\n",
        "m = Manager(40, 30, 500)\n",
        "print(\"Manager Salary:\", m.calculate_salary())\n"
      ],
      "metadata": {
        "colab": {
          "base_uri": "https://localhost:8080/"
        },
        "id": "FZy5AbWcynVU",
        "outputId": "26aa1226-6e49-4d8d-9992-e7b3881a918f"
      },
      "execution_count": 18,
      "outputs": [
        {
          "output_type": "stream",
          "name": "stdout",
          "text": [
            "Employee Salary: 800\n",
            "Manager Salary: 1700\n"
          ]
        }
      ]
    },
    {
      "cell_type": "code",
      "source": [
        "'''\n",
        "15. Create a class Product with attributes name, price, and quantity. Implement a method total_price() that\n",
        "calculates the total price of the product.\n",
        "'''\n",
        "\n",
        "class Product:\n",
        "    def __init__(self, name, price, quantity):\n",
        "        self.name = name\n",
        "        self.price = price\n",
        "        self.quantity = quantity\n",
        "\n",
        "    def total_price(self):\n",
        "        return self.price * self.quantity\n",
        "\n",
        "p = Product(\"Laptop\", 50000, 2)\n",
        "print(\"Total Price:\", p.total_price())\n",
        "\n"
      ],
      "metadata": {
        "colab": {
          "base_uri": "https://localhost:8080/"
        },
        "id": "dLmD5f-Sy2Xc",
        "outputId": "6764d2f6-244d-4717-a3ed-1bf0a09047c0"
      },
      "execution_count": 22,
      "outputs": [
        {
          "output_type": "stream",
          "name": "stdout",
          "text": [
            "Total Price: 100000\n"
          ]
        }
      ]
    },
    {
      "cell_type": "code",
      "source": [
        "'''\n",
        "16. Create a class Animal with an abstract method sound(). Create two derived classes Cow and Sheep that\n",
        "implement the sound() method.\n",
        "'''\n",
        "from abc import ABC, abstractmethod\n",
        "\n",
        "class Animal(ABC):\n",
        "    @abstractmethod\n",
        "    def sound(self):\n",
        "        pass\n",
        "\n",
        "class Cow(Animal):\n",
        "    def sound(self):\n",
        "        return \"Moo\"\n",
        "\n",
        "class Sheep(Animal):\n",
        "    def sound(self):\n",
        "        return \"Baa\"\n",
        "\n",
        "cow = Cow()\n",
        "sheep = Sheep()\n",
        "print(\"Cow:\", cow.sound())\n",
        "print(\"Sheep:\", sheep.sound())\n"
      ],
      "metadata": {
        "colab": {
          "base_uri": "https://localhost:8080/"
        },
        "id": "ZHds4J7wzSc3",
        "outputId": "e128f1d0-e542-4b7b-c961-d3d3905629c4"
      },
      "execution_count": 23,
      "outputs": [
        {
          "output_type": "stream",
          "name": "stdout",
          "text": [
            "Cow: Moo\n",
            "Sheep: Baa\n"
          ]
        }
      ]
    },
    {
      "cell_type": "code",
      "source": [
        "'''\n",
        "17. Create a class Book with attributes title, author, and year_published. Add a method get_book_info() that\n",
        "returns a formatted string with the book's details.\n",
        "'''\n",
        "class Book:\n",
        "    def __init__(self, title, author, year_published):\n",
        "        self.title = title\n",
        "        self.author = author\n",
        "        self.year_published = year_published\n",
        "\n",
        "    def get_book_info(self):\n",
        "        return f\"'{self.title}' by {self.author}, published in {self.year_published}\"\n",
        "\n",
        "b = Book(\"1984\", \"George Orwell\", 1949)\n",
        "print(b.get_book_info())\n"
      ],
      "metadata": {
        "colab": {
          "base_uri": "https://localhost:8080/"
        },
        "id": "99y86Rvjzipu",
        "outputId": "062a27ba-d25f-4f12-9478-b2b3e5c57bec"
      },
      "execution_count": 24,
      "outputs": [
        {
          "output_type": "stream",
          "name": "stdout",
          "text": [
            "'1984' by George Orwell, published in 1949\n"
          ]
        }
      ]
    },
    {
      "cell_type": "code",
      "source": [
        "'''\n",
        "18. Create a class House with attributes address and price. Create a derived class Mansion that adds an\n",
        "attribute number_of_rooms.\n",
        "'''\n",
        "class House:\n",
        "    def __init__(self, address, price):\n",
        "        self.address = address\n",
        "        self.price = price\n",
        "\n",
        "class Mansion(House):\n",
        "    def __init__(self, address, price, number_of_rooms):\n",
        "        super().__init__(address, price)\n",
        "        self.number_of_rooms = number_of_rooms\n",
        "\n",
        "m = Mansion(\"123 Street, NY\", 2000000, 10)\n",
        "print(f\"Address: {m.address}, Price: {m.price}, Rooms: {m.number_of_rooms}\")\n"
      ],
      "metadata": {
        "colab": {
          "base_uri": "https://localhost:8080/"
        },
        "id": "PIT53DH5zrOW",
        "outputId": "1f696a6a-68b6-47b0-b90f-60b245ea296a"
      },
      "execution_count": 25,
      "outputs": [
        {
          "output_type": "stream",
          "name": "stdout",
          "text": [
            "Address: 123 Street, NY, Price: 2000000, Rooms: 10\n"
          ]
        }
      ]
    }
  ]
}